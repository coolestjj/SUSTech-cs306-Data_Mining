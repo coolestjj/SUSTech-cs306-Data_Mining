{
 "cells": [
  {
   "cell_type": "markdown",
   "metadata": {},
   "source": [
    "# Data Mining Assignment2\n",
    "\n",
    "## 1. 数据收集"
   ]
  },
  {
   "cell_type": "code",
   "execution_count": null,
   "metadata": {},
   "outputs": [],
   "source": [
    "\n",
    "from urllib.request import urlopen\n",
    "from bs4 import BeautifulSoup\n",
    "import json\n",
    "import pandas as pd\n",
    "from sklearn.model_selection import train_test_split\n",
    "from sklearn import linear_model\n",
    "from sklearn import metrics\n",
    "import numpy as np\n",
    "from datetime import timedelta\n",
    "\n",
    "# The url for the data of Covid-19\n",
    "url = \"https://api.inews.qq.com/newsqa/v1/query/inner/publish/modules/list?modules=chinaDayList,chinaDayAddList,nowConfirmStatis,provinceCompare\"\n",
    "soup = BeautifulSoup(urlopen(url), 'html.parser') # Use web crawler\n",
    "res = json.loads(soup.text) # Store in json format\n",
    "# Read the data I want\n",
    "chinaDayList = res['data']['chinaDayList']\n",
    "chinaDayAddList = res['data']['chinaDayAddList']\n"
   ]
  },
  {
   "cell_type": "markdown",
   "metadata": {},
   "source": [
    "## 2. 创建DataFrame存储数据"
   ]
  },
  {
   "cell_type": "code",
   "execution_count": null,
   "metadata": {},
   "outputs": [],
   "source": [
    "# Create a dataframe\n",
    "df = pd.DataFrame(columns=['index', 'confirm', 'suspect', 'dead', 'heal', 'nowConfirm', 'localConfirmadd', 'time'])\n",
    "\n",
    "# Read the past 60 days' data\n",
    "for i in range(60):\n",
    "\n",
    "    # Pick out the month, day and year\n",
    "    month = chinaDayList[i]['date'].split('.')[0]\n",
    "    day = chinaDayList[i]['date'].split('.')[1]\n",
    "    year = chinaDayList[i]['y']\n",
    "    # Merge the month, day and year into the following format\n",
    "    time = year + '-' + month + '-' + day # eg: '2022-03-20'\n",
    "\n",
    "    # Write each day's data into df\n",
    "    df.loc[i + 1] = [i + 1, # 'index' column makes it easier to do linear regression\n",
    "                    chinaDayList[i]['confirm'],\n",
    "                    chinaDayList[i]['suspect'],  \n",
    "                    chinaDayList[i]['dead'],  \n",
    "                    chinaDayList[i]['heal'],  \n",
    "                    chinaDayList[i]['nowConfirm'],\n",
    "                    chinaDayAddList[i]['localConfirmadd'],\n",
    "                    time\n",
    "                    ]\n",
    "\n",
    "# Add a new row for df so that we can input the latest day\n",
    "last_day = df.iloc[59].time \n",
    "last_day_ts = pd.to_datetime(last_day, format='%Y/%m/%d') # Convert string to timeStamp\n",
    "one_more_day_ts = last_day_ts + timedelta(days=1)\n",
    "one_more_day = str(one_more_day_ts).split(' ')[0] # Convert timeStamp to string\n",
    "df.loc[61] = [61, '', '', '', '', '', '', one_more_day] # Add a row\n",
    "\n",
    "df"
   ]
  },
  {
   "cell_type": "markdown",
   "metadata": {},
   "source": [
    "## 3. 清洗数据"
   ]
  },
  {
   "cell_type": "code",
   "execution_count": null,
   "metadata": {},
   "outputs": [],
   "source": [
    "# Remove missing values in the dataframe\n",
    "df.dropna(subset=['confirm', 'suspect', 'dead', 'heal', 'nowConfirm', 'localConfirmadd'], inplace=True)\n",
    "df\n"
   ]
  },
  {
   "cell_type": "markdown",
   "metadata": {},
   "source": [
    "## 4. 输入希望预测的日期并截取30天数据"
   ]
  },
  {
   "cell_type": "code",
   "execution_count": null,
   "metadata": {},
   "outputs": [],
   "source": [
    "# Input the date you want to predict as target_date\n",
    "target_date = '2022-04-26' # This is an example input\n",
    "target_date_ts = pd.to_datetime(target_date, format='%Y/%m/%d') # The target date in the format of timeStamp\n",
    "\n",
    "start_date_ts = target_date_ts - timedelta(days=30) # 30 days from the target is the start date\n",
    "start_date = str(start_date_ts).split(' ')[0]\n",
    "\n",
    "start_index = df[(df.time == start_date)].index.tolist()[0] # Get the index of start date\n",
    "\n",
    "df2 = df.iloc[start_index - 1 : start_index + 29] # Pick 30 days before the target date\n",
    "# hint: (start_index - 1 : start_index + 29]\n",
    "\n",
    "df2"
   ]
  },
  {
   "cell_type": "markdown",
   "metadata": {},
   "source": [
    "## 5. 进行预测和评估"
   ]
  },
  {
   "cell_type": "code",
   "execution_count": null,
   "metadata": {},
   "outputs": [],
   "source": [
    "lst = ['confirm', 'suspect', 'dead', 'heal', 'nowConfirm', 'localConfirmadd']\n",
    "\n",
    "# Traverse each indicator\n",
    "for indicator in lst:\n",
    "\n",
    "    # Use index number to predict the value of indicators\n",
    "    x = df2[['index']].values\n",
    "    y = df2[[indicator]].values \n",
    "\n",
    "    # Split data into testing and training set\n",
    "    x_train, x_test, y_train, y_test = train_test_split(x, y, test_size=0.2) # 20% for testing\n",
    "\n",
    "    # Start linear regression training\n",
    "    lm = linear_model.LinearRegression()\n",
    "    model = lm.fit(x_train, y_train)\n",
    "\n",
    "    y_pred = lm.predict(x_test) # Use test cases x to generate y\n",
    "    rmse = np.sqrt(metrics.mean_squared_error(y_test, y_pred)) # Calculate RMSE\n",
    "\n",
    "    target_index = df[(df.time == target_date)].index.tolist()[0] # Get the index of target date\n",
    "\n",
    "    result = model.predict([[target_index]]) # Use target date's index to predict value\n",
    "\n",
    "    # Output results\n",
    "    print('RMSE of '+indicator+ ':', rmse)\n",
    "    print('Predicted ' + indicator + ' cases:', int(result[0][0])) \n",
    "    if lm.intercept_[0] >= 0:\n",
    "        print('Linear Fitting Formula of ' + indicator + ': y =', str(lm.coef_[0][0])+'x +', str(lm.intercept_[0]))\n",
    "    else:\n",
    "        print('Linear Fitting Formula of ' + indicator + ': y =', str(lm.coef_[0][0])+'x', str(lm.intercept_[0]))\n",
    "    \n",
    "    print()\n"
   ]
  }
 ],
 "metadata": {
  "interpreter": {
   "hash": "5961c1f676d41e3107b987a88563c83ef53a9477bd0aeae680aa09bb0e6bf12b"
  },
  "kernelspec": {
   "display_name": "Python 3.9.1 64-bit",
   "language": "python",
   "name": "python3"
  },
  "language_info": {
   "codemirror_mode": {
    "name": "ipython",
    "version": 3
   },
   "file_extension": ".py",
   "mimetype": "text/x-python",
   "name": "python",
   "nbconvert_exporter": "python",
   "pygments_lexer": "ipython3",
   "version": "3.9.1"
  },
  "orig_nbformat": 4
 },
 "nbformat": 4,
 "nbformat_minor": 2
}
