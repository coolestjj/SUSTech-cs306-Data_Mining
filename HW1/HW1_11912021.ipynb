{
 "cells": [
  {
   "cell_type": "markdown",
   "metadata": {},
   "source": [
    "# Data Mining Assignment1"
   ]
  },
  {
   "cell_type": "markdown",
   "metadata": {},
   "source": [
    "## 1.读入数据"
   ]
  },
  {
   "cell_type": "code",
   "execution_count": null,
   "metadata": {},
   "outputs": [],
   "source": [
    "import pandas as pd\n",
    "import chardet as cd\n",
    "\n",
    "# 探明读取所需的编码格式\n",
    "f = open('./HW1data.csv', 'rb')\n",
    "info = cd.detect(f.read(10000))\n",
    "encoding = info['encoding']\n",
    "\n",
    "# 读取数据\n",
    "df = pd.read_csv('./HW1data.csv', encoding=encoding)\n",
    "df"
   ]
  },
  {
   "cell_type": "markdown",
   "metadata": {},
   "source": [
    "## 2.数据补全"
   ]
  },
  {
   "cell_type": "code",
   "execution_count": null,
   "metadata": {},
   "outputs": [],
   "source": [
    "# 从原始数据中提取出所有的 PatientId 与其对应的 Gender/Age/Neighbourhood 信息作为df1表\n",
    "df1 = df[['PatientId','Gender','Age','Neighbourhood']]\n",
    "\n",
    "# df1表按PatientId分组，然后聚合获得最后一个非NaN值\n",
    "df1 = df1.groupby('PatientId').agg('last')\n",
    "\n",
    "# 原表去除掉Gender, Age, Neibourhood三列\n",
    "df.drop(['Gender','Age','Neighbourhood'],axis=1,inplace=True)\n",
    "\n",
    "# 原表去除掉 PatientID、ScheduledDay、AppointmentDay、SMS_received 和 No-show 的 NaN 值行\n",
    "df.dropna(axis=0, subset=[\"PatientId\", \"ScheduledDay\", \"AppointmentDay\", \"SMS_received\", \"No-show\"], inplace=True)\n",
    "\n",
    "# 原表和df1表取两张表的交集(PatientId)进行内连接\n",
    "df = pd.merge(df, df1, how='inner', on='PatientId')\n",
    "df"
   ]
  },
  {
   "cell_type": "markdown",
   "metadata": {},
   "source": [
    "## 3. 除掉 PatientID，Gender，Age，Neighbourhood，ScheduledDay，AppointmentDay，SMS_received 和 No-show 的 NaN 值"
   ]
  },
  {
   "cell_type": "code",
   "execution_count": null,
   "metadata": {},
   "outputs": [],
   "source": [
    "df.dropna(axis=0, subset=['PatientId', 'Gender', 'Age', 'Neighbourhood', 'ScheduledDay', 'AppointmentDay', 'SMS_received', 'No-show'], inplace=True)\n",
    "df"
   ]
  },
  {
   "cell_type": "markdown",
   "metadata": {},
   "source": [
    "## 4.使用默认值 0 补全 Scholarship、Hipertension、Diabetes、Alcoholism和 Handcap 信息"
   ]
  },
  {
   "cell_type": "code",
   "execution_count": null,
   "metadata": {},
   "outputs": [],
   "source": [
    "df.fillna(value={'Scholarship':0, 'Hipertension':0, 'Diabetes':0, 'Alcoholism':0, 'Handcap':0}, inplace=True)\n",
    "df"
   ]
  },
  {
   "cell_type": "markdown",
   "metadata": {},
   "source": [
    "## 5.去掉 PatientId 与 AppointmentID"
   ]
  },
  {
   "cell_type": "code",
   "execution_count": null,
   "metadata": {},
   "outputs": [],
   "source": [
    "df.drop(['PatientId','AppointmentID'],axis=1,inplace=True)\n",
    "df"
   ]
  },
  {
   "cell_type": "markdown",
   "metadata": {},
   "source": [
    "## 6.找出有问题的年龄并去除"
   ]
  },
  {
   "cell_type": "code",
   "execution_count": null,
   "metadata": {},
   "outputs": [],
   "source": [
    "# 有问题的年龄：即小于0的年龄，所以只保存大于等于0的Age\n",
    "df = df[df['Age'] >= 0]\n",
    "df"
   ]
  },
  {
   "cell_type": "markdown",
   "metadata": {},
   "source": [
    "## 7.计算Delta_Day，并加入数据中"
   ]
  },
  {
   "cell_type": "code",
   "execution_count": null,
   "metadata": {},
   "outputs": [],
   "source": [
    "df['Delta_Day'] = ((pd.to_datetime(df['AppointmentDay']) - pd.to_datetime(df['ScheduledDay']))/pd.Timedelta(1, 'D')).fillna(0).astype(int)\n",
    "\n",
    "# 就诊时间应该晚于预约时间，只保存不小于0的差值\n",
    "df = df[df['Delta_Day'] >= 0]\n",
    "\n",
    "df"
   ]
  },
  {
   "cell_type": "markdown",
   "metadata": {},
   "source": [
    "## 8.计算星期几"
   ]
  },
  {
   "cell_type": "code",
   "execution_count": null,
   "metadata": {},
   "outputs": [],
   "source": [
    "df['SDay_DOW'] = pd.to_datetime(df['ScheduledDay']).dt.dayofweek\n",
    "df['ADay_DOW'] = pd.to_datetime(df['AppointmentDay']).dt.dayofweek\n",
    "\n",
    "df"
   ]
  },
  {
   "cell_type": "markdown",
   "metadata": {},
   "source": [
    "## 9.去掉 ScheduledDay 与 AppointmentDay"
   ]
  },
  {
   "cell_type": "code",
   "execution_count": null,
   "metadata": {},
   "outputs": [],
   "source": [
    "df.drop(['ScheduledDay','AppointmentDay'],axis=1,inplace=True)\n",
    "df"
   ]
  }
 ],
 "metadata": {
  "interpreter": {
   "hash": "5961c1f676d41e3107b987a88563c83ef53a9477bd0aeae680aa09bb0e6bf12b"
  },
  "kernelspec": {
   "display_name": "Python 3.9.1 64-bit",
   "language": "python",
   "name": "python3"
  },
  "language_info": {
   "codemirror_mode": {
    "name": "ipython",
    "version": 3
   },
   "file_extension": ".py",
   "mimetype": "text/x-python",
   "name": "python",
   "nbconvert_exporter": "python",
   "pygments_lexer": "ipython3",
   "version": "3.9.1"
  },
  "orig_nbformat": 4
 },
 "nbformat": 4,
 "nbformat_minor": 2
}
